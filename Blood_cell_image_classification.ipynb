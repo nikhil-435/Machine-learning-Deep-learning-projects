{
  "nbformat": 4,
  "nbformat_minor": 0,
  "metadata": {
    "colab": {
      "name": "Blood cell image classification.ipynb",
      "provenance": []
    },
    "kernelspec": {
      "name": "python3",
      "display_name": "Python 3"
    },
    "language_info": {
      "name": "python"
    },
    "accelerator": "GPU"
  },
  "cells": [
    {
      "cell_type": "code",
      "execution_count": 1,
      "metadata": {
        "id": "dyuwcS11d7WV"
      },
      "outputs": [],
      "source": [
        "import tensorflow as tf\n"
      ]
    },
    {
      "cell_type": "code",
      "source": [
        "tf.__version__"
      ],
      "metadata": {
        "colab": {
          "base_uri": "https://localhost:8080/",
          "height": 35
        },
        "id": "B0NubgC0f-GA",
        "outputId": "e6f5a7f0-4ee3-40d1-a1c9-ee3f528be83e"
      },
      "execution_count": 3,
      "outputs": [
        {
          "output_type": "execute_result",
          "data": {
            "text/plain": [
              "'2.8.0'"
            ],
            "application/vnd.google.colaboratory.intrinsic+json": {
              "type": "string"
            }
          },
          "metadata": {},
          "execution_count": 3
        }
      ]
    },
    {
      "cell_type": "code",
      "source": [
        "!pip install tensorflow-gpu==2.0.0"
      ],
      "metadata": {
        "id": "fiqwuGLJgCUG"
      },
      "execution_count": null,
      "outputs": []
    },
    {
      "cell_type": "code",
      "source": [
        "import tensorflow as tf"
      ],
      "metadata": {
        "id": "jfeE0TI0gQSm"
      },
      "execution_count": 4,
      "outputs": []
    },
    {
      "cell_type": "code",
      "source": [
        "tf.__version__"
      ],
      "metadata": {
        "colab": {
          "base_uri": "https://localhost:8080/",
          "height": 35
        },
        "id": "SyiJIYK1ghww",
        "outputId": "86a46ffa-6382-4517-eacd-8dfde81a6ce3"
      },
      "execution_count": 13,
      "outputs": [
        {
          "output_type": "execute_result",
          "data": {
            "text/plain": [
              "'2.0.0'"
            ],
            "application/vnd.google.colaboratory.intrinsic+json": {
              "type": "string"
            }
          },
          "metadata": {},
          "execution_count": 13
        }
      ]
    },
    {
      "cell_type": "code",
      "source": [
        "from tensorflow.keras.utils import to_categorical\n",
        "from sklearn.model_selection import train_test_split\n",
        "from sklearn.metrics import confusion_matrix , accuracy_score, classification_report\n",
        "from tensorflow.keras.models import Sequential\n",
        "from tensorflow.keras.layers import Dense, Dropout\n",
        "from tensorflow.keras.optimizers import SGD\n",
        "from imutils import paths\n",
        "import matplotlib.pyplot as plt\n",
        "import numpy as np\n",
        "import random\n",
        "import pickle\n",
        "import cv2\n",
        "import os\n",
        "import time   # time1 = time.time(); print('Time taken: {:.1f} seconds'.format(time.time() - time1))\n",
        "import warnings\n",
        "from tqdm import tqdm_notebook as tqdm\n",
        "import itertools\n",
        "from tensorflow.keras.preprocessing.image import ImageDataGenerator\n",
        "from tensorflow.keras import Sequential\n",
        "from tensorflow.keras.layers import Conv2D, MaxPooling2D, BatchNormalization, Activation, Dense, Dropout, Flatten\n",
        "from tensorflow.keras.initializers import he_normal\n",
        "\n",
        "warnings.filterwarnings(\"ignore\")\n",
        "SEED = 42   # set random seed"
      ],
      "metadata": {
        "id": "UdP0vxPvgkT2"
      },
      "execution_count": 3,
      "outputs": []
    },
    {
      "cell_type": "code",
      "source": [
        "import os\n",
        "os.chdir(\"/content/drive/MyDrive/Blood cell classification\")"
      ],
      "metadata": {
        "id": "bey03BL8gnbv"
      },
      "execution_count": 5,
      "outputs": []
    },
    {
      "cell_type": "code",
      "source": [
        "pip install patool"
      ],
      "metadata": {
        "id": "bqCLN02cgtlK"
      },
      "execution_count": null,
      "outputs": []
    },
    {
      "cell_type": "code",
      "source": [
        "import patoolib"
      ],
      "metadata": {
        "id": "p8tRSo-Sg03f"
      },
      "execution_count": 8,
      "outputs": []
    },
    {
      "cell_type": "code",
      "source": [
        "patoolib.extract_archive('dataset2-master.rar')"
      ],
      "metadata": {
        "colab": {
          "base_uri": "https://localhost:8080/",
          "height": 105
        },
        "id": "du_mjNQzg7nQ",
        "outputId": "77055a14-c106-4e27-ef3d-ce3c1d378bf0"
      },
      "execution_count": 9,
      "outputs": [
        {
          "output_type": "stream",
          "name": "stdout",
          "text": [
            "patool: Extracting dataset2-master.rar ...\n",
            "patool: running /usr/bin/unrar x -- \"/content/drive/MyDrive/Blood cell classification/dataset2-master.rar\"\n",
            "patool:     with cwd='./Unpack_7xoujcjm'\n",
            "patool: ... dataset2-master.rar extracted to `dataset2-master'.\n"
          ]
        },
        {
          "output_type": "execute_result",
          "data": {
            "text/plain": [
              "'dataset2-master'"
            ],
            "application/vnd.google.colaboratory.intrinsic+json": {
              "type": "string"
            }
          },
          "metadata": {},
          "execution_count": 9
        }
      ]
    },
    {
      "cell_type": "code",
      "source": [
        "train_images = \"/content/drive/MyDrive/Blood cell classification/dataset2-master/images/TRAIN\"\n",
        "test_images = \"/content/drive/MyDrive/Blood cell classification/dataset2-master/images/TEST\"\n",
        "val_images = \"/content/drive/MyDrive/Blood cell classification/dataset2-master/images/TEST_SIMPLE\""
      ],
      "metadata": {
        "id": "Kqm1TEtZhC0_"
      },
      "execution_count": 5,
      "outputs": []
    },
    {
      "cell_type": "code",
      "source": [
        "datagen = ImageDataGenerator(rescale = 1./255.)\n",
        "train_generator = datagen.flow_from_directory(directory = train_images,\n",
        "                                        batch_size =64,\n",
        "                                        seed = 42,\n",
        "                                        shuffle = True,\n",
        "                                        class_mode = \"categorical\",\n",
        "                                        target_size = (224,224),\n",
        "                                        color_mode = 'rgb')\n",
        "\n",
        "test_generator = datagen.flow_from_directory(directory = test_images ,\n",
        "                                        batch_size =64,\n",
        "                                        seed = 42,\n",
        "                                        shuffle = True,\n",
        "                                        class_mode = \"categorical\",\n",
        "                                        target_size = (224,224),\n",
        "                                        color_mode = 'rgb')\n",
        "\n",
        "val_generator = datagen.flow_from_directory(directory = val_images ,\n",
        "                                        batch_size =64,\n",
        "                                        seed = 42,\n",
        "                                        shuffle = True,\n",
        "                                        class_mode = \"categorical\",\n",
        "                                        target_size = (224,224),\n",
        "                                        color_mode = 'rgb')"
      ],
      "metadata": {
        "colab": {
          "base_uri": "https://localhost:8080/"
        },
        "id": "-05PDr42mT_g",
        "outputId": "64ab08ef-a2fa-4d65-cdd9-96f382714b77"
      },
      "execution_count": 9,
      "outputs": [
        {
          "output_type": "stream",
          "name": "stdout",
          "text": [
            "Found 9957 images belonging to 4 classes.\n",
            "Found 2487 images belonging to 4 classes.\n",
            "Found 71 images belonging to 4 classes.\n"
          ]
        }
      ]
    },
    {
      "cell_type": "code",
      "source": [
        "train_generator.class_indices"
      ],
      "metadata": {
        "colab": {
          "base_uri": "https://localhost:8080/"
        },
        "id": "bSzau4bUnClE",
        "outputId": "92fa06d0-45e1-469a-a1c5-d5428d2e1298"
      },
      "execution_count": 8,
      "outputs": [
        {
          "output_type": "execute_result",
          "data": {
            "text/plain": [
              "{'EOSINOPHIL': 0, 'LYMPHOCYTE': 1, 'MONOCYTE': 2, 'NEUTROPHIL': 3}"
            ]
          },
          "metadata": {},
          "execution_count": 8
        }
      ]
    },
    {
      "cell_type": "code",
      "source": [
        "dropout=0.5\n",
        "\n",
        "\n",
        "model = Sequential()\n",
        "model.add(Conv2D(input_shape=(224,224,3),filters=64,kernel_size=(3,3),padding=\"same\",kernel_initializer=he_normal()))\n",
        "model.add(BatchNormalization())\n",
        "model.add(Activation('relu'))\n",
        "model.add(Conv2D(filters=64,kernel_size=(3,3),padding=\"same\",kernel_initializer=he_normal()))\n",
        "model.add(BatchNormalization())\n",
        "model.add(Activation('relu'))\n",
        "model.add(MaxPooling2D(pool_size=(2,2),strides=(2,2)))\n",
        "\n",
        "model.add(Conv2D(filters=128, kernel_size=(3,3), padding=\"same\",kernel_initializer=he_normal()))\n",
        "model.add(BatchNormalization())\n",
        "model.add(Activation('relu'))\n",
        "model.add(Conv2D(filters=128, kernel_size=(3,3), padding=\"same\",kernel_initializer=he_normal()))\n",
        "model.add(BatchNormalization())\n",
        "model.add(Activation('relu'))\n",
        "model.add(MaxPooling2D(pool_size=(2,2),strides=(2,2)))\n",
        "\n",
        "model.add(Conv2D(filters=256, kernel_size=(3,3), padding=\"same\",kernel_initializer=he_normal()))\n",
        "model.add(BatchNormalization())\n",
        "model.add(Activation('relu'))\n",
        "model.add(Conv2D(filters=256, kernel_size=(3,3), padding=\"same\",kernel_initializer=he_normal()))\n",
        "model.add(BatchNormalization())\n",
        "model.add(Activation('relu'))\n",
        "model.add(Conv2D(filters=256, kernel_size=(3,3), padding=\"same\",kernel_initializer=he_normal()))\n",
        "model.add(BatchNormalization())\n",
        "model.add(Activation('relu'))\n",
        "model.add(MaxPooling2D(pool_size=(2,2),strides=(2,2)))\n",
        "\n",
        "model.add(Conv2D(filters=512, kernel_size=(3,3), padding=\"same\",kernel_initializer=he_normal()))\n",
        "model.add(BatchNormalization())\n",
        "model.add(Activation('relu'))\n",
        "model.add(Conv2D(filters=512, kernel_size=(3,3), padding=\"same\",kernel_initializer=he_normal()))\n",
        "model.add(BatchNormalization())\n",
        "model.add(Activation('relu'))\n",
        "model.add(Conv2D(filters=512, kernel_size=(3,3), padding=\"same\",kernel_initializer=he_normal()))\n",
        "model.add(BatchNormalization())\n",
        "model.add(Activation('relu'))\n",
        "model.add(MaxPooling2D(pool_size=(2,2),strides=(2,2)))\n",
        "\n",
        "model.add(Conv2D(filters=512, kernel_size=(3,3), padding=\"same\",kernel_initializer=he_normal()))\n",
        "model.add(BatchNormalization())\n",
        "model.add(Activation('relu'))\n",
        "model.add(Conv2D(filters=512, kernel_size=(3,3), padding=\"same\",kernel_initializer=he_normal()))\n",
        "model.add(BatchNormalization())\n",
        "model.add(Activation('relu'))\n",
        "model.add(Conv2D(filters=512, kernel_size=(3,3), padding=\"same\",kernel_initializer=he_normal()))\n",
        "model.add(BatchNormalization())\n",
        "model.add(Activation('relu'))\n",
        "model.add(MaxPooling2D(pool_size=(2,2),strides=(2,2)))\n",
        "\n",
        "\n",
        "\n",
        "model.add(Flatten())\n",
        "model.add(Dense(4096,kernel_initializer=he_normal()))\n",
        "model.add(BatchNormalization())\n",
        "model.add(Activation('relu'))\n",
        "model.add(Dropout(dropout)) \n",
        "model.add(Dense(4096,kernel_initializer=he_normal()))\n",
        "model.add(BatchNormalization())\n",
        "model.add(Activation('relu'))\n",
        "model.add(Dropout(dropout)) \n",
        "\n",
        "model.add(Dense(4, activation=\"softmax\"))"
      ],
      "metadata": {
        "id": "0VAV4lhinOLZ"
      },
      "execution_count": 6,
      "outputs": []
    },
    {
      "cell_type": "code",
      "source": [
        "model.summary()"
      ],
      "metadata": {
        "colab": {
          "base_uri": "https://localhost:8080/"
        },
        "id": "wgb5quL7nW0x",
        "outputId": "a408cf64-8095-436d-9f6a-129adcbe5337"
      },
      "execution_count": 10,
      "outputs": [
        {
          "output_type": "stream",
          "name": "stdout",
          "text": [
            "Model: \"sequential\"\n",
            "_________________________________________________________________\n",
            "Layer (type)                 Output Shape              Param #   \n",
            "=================================================================\n",
            "conv2d (Conv2D)              (None, 224, 224, 64)      1792      \n",
            "_________________________________________________________________\n",
            "batch_normalization (BatchNo (None, 224, 224, 64)      256       \n",
            "_________________________________________________________________\n",
            "activation (Activation)      (None, 224, 224, 64)      0         \n",
            "_________________________________________________________________\n",
            "conv2d_1 (Conv2D)            (None, 224, 224, 64)      36928     \n",
            "_________________________________________________________________\n",
            "batch_normalization_1 (Batch (None, 224, 224, 64)      256       \n",
            "_________________________________________________________________\n",
            "activation_1 (Activation)    (None, 224, 224, 64)      0         \n",
            "_________________________________________________________________\n",
            "max_pooling2d (MaxPooling2D) (None, 112, 112, 64)      0         \n",
            "_________________________________________________________________\n",
            "conv2d_2 (Conv2D)            (None, 112, 112, 128)     73856     \n",
            "_________________________________________________________________\n",
            "batch_normalization_2 (Batch (None, 112, 112, 128)     512       \n",
            "_________________________________________________________________\n",
            "activation_2 (Activation)    (None, 112, 112, 128)     0         \n",
            "_________________________________________________________________\n",
            "conv2d_3 (Conv2D)            (None, 112, 112, 128)     147584    \n",
            "_________________________________________________________________\n",
            "batch_normalization_3 (Batch (None, 112, 112, 128)     512       \n",
            "_________________________________________________________________\n",
            "activation_3 (Activation)    (None, 112, 112, 128)     0         \n",
            "_________________________________________________________________\n",
            "max_pooling2d_1 (MaxPooling2 (None, 56, 56, 128)       0         \n",
            "_________________________________________________________________\n",
            "conv2d_4 (Conv2D)            (None, 56, 56, 256)       295168    \n",
            "_________________________________________________________________\n",
            "batch_normalization_4 (Batch (None, 56, 56, 256)       1024      \n",
            "_________________________________________________________________\n",
            "activation_4 (Activation)    (None, 56, 56, 256)       0         \n",
            "_________________________________________________________________\n",
            "conv2d_5 (Conv2D)            (None, 56, 56, 256)       590080    \n",
            "_________________________________________________________________\n",
            "batch_normalization_5 (Batch (None, 56, 56, 256)       1024      \n",
            "_________________________________________________________________\n",
            "activation_5 (Activation)    (None, 56, 56, 256)       0         \n",
            "_________________________________________________________________\n",
            "conv2d_6 (Conv2D)            (None, 56, 56, 256)       590080    \n",
            "_________________________________________________________________\n",
            "batch_normalization_6 (Batch (None, 56, 56, 256)       1024      \n",
            "_________________________________________________________________\n",
            "activation_6 (Activation)    (None, 56, 56, 256)       0         \n",
            "_________________________________________________________________\n",
            "max_pooling2d_2 (MaxPooling2 (None, 28, 28, 256)       0         \n",
            "_________________________________________________________________\n",
            "conv2d_7 (Conv2D)            (None, 28, 28, 512)       1180160   \n",
            "_________________________________________________________________\n",
            "batch_normalization_7 (Batch (None, 28, 28, 512)       2048      \n",
            "_________________________________________________________________\n",
            "activation_7 (Activation)    (None, 28, 28, 512)       0         \n",
            "_________________________________________________________________\n",
            "conv2d_8 (Conv2D)            (None, 28, 28, 512)       2359808   \n",
            "_________________________________________________________________\n",
            "batch_normalization_8 (Batch (None, 28, 28, 512)       2048      \n",
            "_________________________________________________________________\n",
            "activation_8 (Activation)    (None, 28, 28, 512)       0         \n",
            "_________________________________________________________________\n",
            "conv2d_9 (Conv2D)            (None, 28, 28, 512)       2359808   \n",
            "_________________________________________________________________\n",
            "batch_normalization_9 (Batch (None, 28, 28, 512)       2048      \n",
            "_________________________________________________________________\n",
            "activation_9 (Activation)    (None, 28, 28, 512)       0         \n",
            "_________________________________________________________________\n",
            "max_pooling2d_3 (MaxPooling2 (None, 14, 14, 512)       0         \n",
            "_________________________________________________________________\n",
            "conv2d_10 (Conv2D)           (None, 14, 14, 512)       2359808   \n",
            "_________________________________________________________________\n",
            "batch_normalization_10 (Batc (None, 14, 14, 512)       2048      \n",
            "_________________________________________________________________\n",
            "activation_10 (Activation)   (None, 14, 14, 512)       0         \n",
            "_________________________________________________________________\n",
            "conv2d_11 (Conv2D)           (None, 14, 14, 512)       2359808   \n",
            "_________________________________________________________________\n",
            "batch_normalization_11 (Batc (None, 14, 14, 512)       2048      \n",
            "_________________________________________________________________\n",
            "activation_11 (Activation)   (None, 14, 14, 512)       0         \n",
            "_________________________________________________________________\n",
            "conv2d_12 (Conv2D)           (None, 14, 14, 512)       2359808   \n",
            "_________________________________________________________________\n",
            "batch_normalization_12 (Batc (None, 14, 14, 512)       2048      \n",
            "_________________________________________________________________\n",
            "activation_12 (Activation)   (None, 14, 14, 512)       0         \n",
            "_________________________________________________________________\n",
            "max_pooling2d_4 (MaxPooling2 (None, 7, 7, 512)         0         \n",
            "_________________________________________________________________\n",
            "flatten (Flatten)            (None, 25088)             0         \n",
            "_________________________________________________________________\n",
            "dense (Dense)                (None, 4096)              102764544 \n",
            "_________________________________________________________________\n",
            "batch_normalization_13 (Batc (None, 4096)              16384     \n",
            "_________________________________________________________________\n",
            "activation_13 (Activation)   (None, 4096)              0         \n",
            "_________________________________________________________________\n",
            "dropout (Dropout)            (None, 4096)              0         \n",
            "_________________________________________________________________\n",
            "dense_1 (Dense)              (None, 4096)              16781312  \n",
            "_________________________________________________________________\n",
            "batch_normalization_14 (Batc (None, 4096)              16384     \n",
            "_________________________________________________________________\n",
            "activation_14 (Activation)   (None, 4096)              0         \n",
            "_________________________________________________________________\n",
            "dropout_1 (Dropout)          (None, 4096)              0         \n",
            "_________________________________________________________________\n",
            "dense_2 (Dense)              (None, 4)                 16388     \n",
            "=================================================================\n",
            "Total params: 134,326,596\n",
            "Trainable params: 134,301,764\n",
            "Non-trainable params: 24,832\n",
            "_________________________________________________________________\n"
          ]
        }
      ]
    },
    {
      "cell_type": "code",
      "source": [
        "model.compile(\n",
        "              loss=tf.keras.losses.CategoricalCrossentropy(),\n",
        "              optimizer=tf.keras.optimizers.Adam(learning_rate=0.0001),\n",
        "              metrics=['accuracy'])\n"
      ],
      "metadata": {
        "id": "W_u1D7JQnbyJ"
      },
      "execution_count": 7,
      "outputs": []
    },
    {
      "cell_type": "code",
      "source": [
        "checkpoint_filepath = (\"/content/drive/MyDrive/Blood cell classification\")\n",
        "\n"
      ],
      "metadata": {
        "id": "TSrPBtVZCcWG"
      },
      "execution_count": 11,
      "outputs": []
    },
    {
      "cell_type": "code",
      "source": [
        "model.fit(\n",
        "    train_generator,\n",
        "    validation_data=val_generator,\n",
        "    epochs=10,\n",
        ")"
      ],
      "metadata": {
        "id": "VVMkQHoLng2x"
      },
      "execution_count": null,
      "outputs": []
    },
    {
      "cell_type": "code",
      "source": [
        "model.evaluate(test_generator)"
      ],
      "metadata": {
        "colab": {
          "base_uri": "https://localhost:8080/"
        },
        "id": "fyRazosdAL9i",
        "outputId": "30c09df8-1f75-47ad-e088-8e605767aaa1"
      },
      "execution_count": 18,
      "outputs": [
        {
          "output_type": "stream",
          "name": "stdout",
          "text": [
            "39/39 [==============================] - 38s 962ms/step - loss: 1.2939 - accuracy: 0.7901\n"
          ]
        },
        {
          "output_type": "execute_result",
          "data": {
            "text/plain": [
              "[1.2938713798156152, 0.79010856]"
            ]
          },
          "metadata": {},
          "execution_count": 18
        }
      ]
    },
    {
      "cell_type": "code",
      "source": [
        ""
      ],
      "metadata": {
        "id": "GwIzyXWXBBtJ"
      },
      "execution_count": null,
      "outputs": []
    }
  ]
}